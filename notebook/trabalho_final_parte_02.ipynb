{
 "cells": [
  {
   "cell_type": "code",
   "execution_count": null,
   "metadata": {},
   "outputs": [],
   "source": [
    "%%time\n",
    "\"\"\"\n",
    "    Atividade Final.\n",
    "\n",
    "    Autor:\n",
    "        Richard de Andrade\n",
    "        Flávio do Nascimento Bilancieri\n",
    "    E-mail: \n",
    "        Richard - 1407221@sga.pucminas.br\n",
    "        Flávio - 1407220@sga.pucminas.br\n",
    "    Data:\n",
    "        2022-11-14\n",
    "\"\"\"\n",
    "\n",
    "\n",
    "# Conexão spark\n",
    "from pyspark.sql import SparkSession\n",
    "from pyspark.sql import functions as f\n",
    "from pyspark.sql.types import StructType, StructField, StringType, IntegerType, FloatType\n",
    "\n",
    "spark = SparkSession\\\n",
    "    .builder\\\n",
    "    .appName(\"Prep-Orq-Exerc-Final\")\\\n",
    "    .getOrCreate()\n",
    "\n",
    "spark.conf.set(\"spark.sql.shuffle.partitions\", 1)"
   ]
  },
  {
   "cell_type": "code",
   "execution_count": null,
   "metadata": {},
   "outputs": [],
   "source": [
    "%%time\n",
    "# Trata as colunas do arquivo titanic.csv\n",
    "schema_arq = (\n",
    "    StructType([ \n",
    "        StructField(\"PassengerId\", IntegerType(), True),\n",
    "        StructField(\"Survived\", IntegerType(), True),\n",
    "        StructField(\"Pclass\", IntegerType(), True),\n",
    "        StructField(\"Name\",StringType(),True), \n",
    "        StructField(\"Sex\",StringType(),True), \n",
    "        StructField(\"Age\", FloatType(), True),\n",
    "        StructField(\"SibSp\", IntegerType(), True),\n",
    "        StructField(\"Parch\", IntegerType(), True),\n",
    "        StructField(\"Ticket\",StringType(),True), \n",
    "        StructField(\"Fare\", FloatType(), True),\n",
    "        StructField(\"Cabin\",StringType(),True), \n",
    "        StructField(\"Embarked\",StringType(),True)\n",
    "    ])\n",
    ")"
   ]
  },
  {
   "cell_type": "code",
   "execution_count": null,
   "metadata": {},
   "outputs": [],
   "source": [
    "%%time\n",
    "params = {\"header\": True, \"schema\": schema_arq, \"sep\": \";\",  \"encoding\": \"latin1\"}\n",
    "\n",
    "# Le o arquivo\n",
    "df = spark.read.csv(\"s3://airflow-logs-452490318365/arquivo/\", **params)\n",
    "\n",
    "# Cria uma temp view\n",
    "df.createOrReplaceTempView(\"titanic\")\n",
    "\n",
    "# Faz uma contagem dos sobreviventes\n",
    "survived = (\n",
    "    spark.sql('''\n",
    "    select survived, count(1) as qtd\n",
    "    from   titanic\n",
    "    group  by survived\n",
    "    ''')\n",
    ")\n",
    "\n",
    "# Armazena o resultado em um arquivo parquet\n",
    "survived.write.parquet(\"s3://airflow-logs-452490318365/arquivo/\")"
   ]
  },
  {
   "cell_type": "code",
   "execution_count": null,
   "metadata": {},
   "outputs": [],
   "source": [
    "%%time\n",
    "spark.sql('drop table if exists tb_tinatic_survived')\n",
    "\n",
    "# Cria uma tabela apontando para o arquivo parquet\n",
    "spark.sql('''\n",
    "create external table tb_tinatic_survived \n",
    "(\n",
    "  survived int,\n",
    "  qtd      int\n",
    ")\n",
    "stored as parquet\n",
    "tblproperties ('parquet.compression' = 'snappy')\n",
    "location \"s3://airflow-logs-452490318365/arquivo/\"\n",
    "''')\n",
    "  \n",
    "# Describe na tabela para mostrar que não está vazia\n",
    "spark.sql('describe formatted tb_tinatic_survived').show(n=200, truncate=False)"
   ]
  },
  {
   "cell_type": "code",
   "execution_count": null,
   "metadata": {},
   "outputs": [],
   "source": [
    "# Mostra o resultado da tabela\n",
    "spark.table('tb_tinatic_survived').show(n=5, truncate=False)"
   ]
  }
 ],
 "metadata": {
  "kernelspec": {
   "display_name": "Python 3.10.4 64-bit",
   "language": "python",
   "name": "python3"
  },
  "language_info": {
   "codemirror_mode": {
    "name": "ipython",
    "version": 3
   },
   "file_extension": ".py",
   "mimetype": "text/x-python",
   "name": "python",
   "nbconvert_exporter": "python",
   "pygments_lexer": "ipython3",
   "version": "3.10.4"
  },
  "orig_nbformat": 4,
  "vscode": {
   "interpreter": {
    "hash": "b890afb92c9b5a694e1235b05c2ceb9e030c8303ec8d9f6d87829811491adcbf"
   }
  }
 },
 "nbformat": 4,
 "nbformat_minor": 2
}
